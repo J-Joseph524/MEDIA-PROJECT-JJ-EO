{
 "cells": [
  {
   "cell_type": "code",
   "execution_count": 1,
   "metadata": {},
   "outputs": [],
   "source": [
    "# Your code here - remember to use markdown cells for comments as well!"
   ]
  },
  {
   "cell_type": "code",
   "execution_count": 1,
   "metadata": {},
   "outputs": [],
   "source": [
    "import requests\n",
    "from bs4 import BeautifulSoup\n",
    "import pandas as pd\n",
    "import numpy as np\n",
    "#recieves all the required libraries for web scraping"
   ]
  },
  {
   "cell_type": "code",
   "execution_count": 3,
   "metadata": {},
   "outputs": [],
   "source": [
    "gets = []\n",
    "for link in url_list:\n",
    "    gets.append(requests.get(link)) #adding each requested link from the pages into a new empty list\n",
    "soups = []\n",
    "for get in gets:\n",
    "    soups.append(BeautifulSoup(get.content, 'html.parser')) #passes all the page contents into beautiful soup for parsing"
   ]
  },
  {
   "cell_type": "code",
   "execution_count": null,
   "metadata": {},
   "outputs": [],
   "source": [
    "#a nested for loop with a specific condition that brings out the output of each movie on each page from all the years in our range containing all its information(in our case what we needed was the revenue for Domestic & Foreign Films)\n",
    "movie_list = []\n",
    "row_list = []\n",
    "for record in soups:\n",
    "    for soup in record.findAll('tr'):\n",
    "        for data in record.findAll('td'):\n",
    "            row_list.append(data.text)\n",
    "        if row_list == []:\n",
    "            pass\n",
    "        else:\n",
    "            movie_list.append(row_list)\n",
    "            \n",
    "movie_list"
   ]
  },
  {
   "cell_type": "code",
   "execution_count": null,
   "metadata": {},
   "outputs": [],
   "source": []
  },
  {
   "cell_type": "code",
   "execution_count": null,
   "metadata": {},
   "outputs": [],
   "source": []
  },
  {
   "cell_type": "code",
   "execution_count": null,
   "metadata": {},
   "outputs": [],
   "source": []
  },
  {
   "cell_type": "code",
   "execution_count": null,
   "metadata": {},
   "outputs": [],
   "source": []
  },
  {
   "cell_type": "code",
   "execution_count": null,
   "metadata": {},
   "outputs": [],
   "source": []
  }
 ],
 "metadata": {
  "kernelspec": {
   "display_name": "Python 3",
   "language": "python",
   "name": "python3"
  },
  "language_info": {
   "codemirror_mode": {
    "name": "ipython",
    "version": 3
   },
   "file_extension": ".py",
   "mimetype": "text/x-python",
   "name": "python",
   "nbconvert_exporter": "python",
   "pygments_lexer": "ipython3",
   "version": "3.7.4"
  }
 },
 "nbformat": 4,
 "nbformat_minor": 2
}

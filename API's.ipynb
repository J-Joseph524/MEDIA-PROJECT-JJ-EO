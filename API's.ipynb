{
 "cells": [
  {
   "cell_type": "code",
   "execution_count": 14,
   "metadata": {},
   "outputs": [
    {
     "ename": "IndentationError",
     "evalue": "unexpected indent (<ipython-input-14-66fe78fc70c0>, line 5)",
     "output_type": "error",
     "traceback": [
      "\u001b[0;36m  File \u001b[0;32m\"<ipython-input-14-66fe78fc70c0>\"\u001b[0;36m, line \u001b[0;32m5\u001b[0m\n\u001b[0;31m    for p in mrd2['production_companies']:\u001b[0m\n\u001b[0m    ^\u001b[0m\n\u001b[0;31mIndentationError\u001b[0m\u001b[0;31m:\u001b[0m unexpected indent\n"
     ]
    }
   ],
   "source": [
    "def title_genre_PC_budget(x):\n",
    "    production_companies=[]\n",
    "    movie_url = 'https://api.themoviedb.org/3/movie/' + str(x) +'?api_key=d34a7ae8e00fac4590a4aee2a6e5d4a5&language=en-US'\n",
    "df = pd.read_json(movie_url) \n",
    "    for p in mrd2['production_companies']:  \n",
    "        production_companies.append(p['name'])\n",
    "    return(production_companies)\n",
    "get_genre_PC_budget(sample_id)"
   ]
  },
  {
   "cell_type": "code",
   "execution_count": null,
   "metadata": {},
   "outputs": [],
   "source": [
    "1 4 7 8 9"
   ]
  },
  {
   "cell_type": "code",
   "execution_count": null,
   "metadata": {},
   "outputs": [],
   "source": [
    "# ### Initial setup for Beautiful Soup ###\n",
    "# url = 'https://www.boxofficemojo.com/year/world/?ref_=bo_nb_hm_tab'\n",
    "# html_page = requests.get(url) # Make a get request to retrieve the page\n",
    "# soup = BeautifulSoup(html_page.content, 'html.parser') # Pass the page contents to beautiful soup for parsing"
   ]
  },
  {
   "cell_type": "code",
   "execution_count": null,
   "metadata": {},
   "outputs": [],
   "source": [
    "jason = []\n",
    "for record in soup.findAll('tr'):\n",
    "    for data in record.findAll('td'):\n",
    "        jason.append(data.text)\n",
    "        \n",
    "# jason = data.text\n",
    "# jason.split(\"/n\")\n",
    "print(jason)"
   ]
  },
  {
   "cell_type": "code",
   "execution_count": null,
   "metadata": {},
   "outputs": [],
   "source": [
    "for record in soup.findAll('tr'):\n",
    "    for data in record.findAll('td'):\n",
    "        print (data.text)"
   ]
  },
  {
   "cell_type": "code",
   "execution_count": null,
   "metadata": {},
   "outputs": [],
   "source": []
  }
 ],
 "metadata": {
  "kernelspec": {
   "display_name": "Python 3",
   "language": "python",
   "name": "python3"
  },
  "language_info": {
   "codemirror_mode": {
    "name": "ipython",
    "version": 3
   },
   "file_extension": ".py",
   "mimetype": "text/x-python",
   "name": "python",
   "nbconvert_exporter": "python",
   "pygments_lexer": "ipython3",
   "version": "3.7.4"
  }
 },
 "nbformat": 4,
 "nbformat_minor": 2
}
